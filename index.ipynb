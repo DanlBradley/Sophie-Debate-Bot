{
 "cells": [
  {
   "cell_type": "code",
   "execution_count": 79,
   "metadata": {},
   "outputs": [],
   "source": [
    "#Libraries\n",
    "#big test\n",
    "import os\n",
    "import pandas as pd\n",
    "import numpy as np\n",
    "import matplotlib.pyplot as plt\n",
    "from sklearn.metrics import confusion_matrix, ConfusionMatrixDisplay, classification_report"
   ]
  },
  {
   "cell_type": "code",
   "execution_count": 56,
   "metadata": {},
   "outputs": [],
   "source": [
    "#Load the datasets\n",
    "\n",
    "#This function retrieves the list of text files (which are all indivudial arguments) and compiles them into a dataframe\n",
    "def get_arguments_from_text():\n",
    "    path = \"/Users/danielbradley/Documents/FlatIron/Phase5/Sophie-Debate-Bot/data/no_wavs/trs.txt\"\n",
    "    os.chdir(path)\n",
    "    list_of_files = []\n",
    "\n",
    "    # iterate through all file\n",
    "    for file in os.listdir():\n",
    "        list_of_files.append(file)\n",
    "\n",
    "    #Create a list of arguments as strings\n",
    "    list_of_strings = []\n",
    "    for file in list_of_files:\n",
    "        with open(path+'/'+file) as f:\n",
    "            list_of_strings.append(f.read())\n",
    "\n",
    "    #Turn the list into a dataframe\n",
    "    return pd.DataFrame(list_of_strings, columns=['argument'])\n",
    "\n",
    "#1: Argument detection dataset\n",
    "dataset_arg_detect = pd.read_csv('data/IBM_Debater_(R)_ArgsInASR_Findings-2020.v1/argumentative_sentences_in_spoken_language_with split.csv')\n",
    "dataset_arg_detect_train = pd.read_csv('data/IBM_Debater_(R)_ArgsInASR_Findings-2020.v1/data_sets/q_mc_train.csv')\n",
    "dataset_arg_detect_test = pd.read_csv('data/IBM_Debater_(R)_ArgsInASR_Findings-2020.v1/data_sets/q_mc_test.csv')\n",
    "dataset_arg_detect_wiki = pd.read_csv('data/IBM_Debater_(R)_ArgsInASR_Findings-2020.v1/wikipedia_evidence_dataset_29429.csv')\n",
    "\n",
    "#2: Data quality dataset - test and train\n",
    "dataset_arg_qual_train = pd.read_csv('data/IBM_Debater_(R)_EviConv-ACL-2019.v1/train.csv')\n",
    "dataset_arg_qual_test = pd.read_csv('data/IBM_Debater_(R)_EviConv-ACL-2019.v1/test.csv')\n",
    "\n",
    "#3: Argument stance detection dataset\n",
    "dataset_arg_stance = pd.read_csv('data/IBM_Debater_(R)_CS_EACL-2017.v1/claim_stance_dataset_v1.csv')\n",
    "\n",
    "#4: Debater analysis dataset\n",
    "dataset_arg_gen = pd.read_csv('data/no_wavs/RecordedDebatingDataset_Release5_metadata.csv')\n",
    "dataset_arg_gen_ootec = pd.read_csv('data/no_wavs/OutOfTheEchoChamber_acl2020_split.csv')\n",
    "\n",
    "owd = os.getcwd()\n",
    "dataset_arg_gen_args = get_arguments_from_text()\n",
    "os.chdir(owd)\n",
    "\n",
    "#5: Key point analysis: Arg KP dataset\n",
    "dataset_key_point = pd.read_csv('data/IBM_Debater_(R)_ArgKP-2021/ArgKP-2021_dataset.csv')\n",
    "\n",
    "#6: Claim generation: Must be able to generate claims\n",
    "dataset_claim_gen = pd.read_csv('data/IBM_Debater_(R)_ GPT-2_Claim_Generation/generated_texts_plausibility_stance.csv')"
   ]
  },
  {
   "cell_type": "markdown",
   "metadata": {},
   "source": [
    "## Dataset #1: Domain detection\n",
    "What topic is the debater discussing? The model must be able to determine this accurately to access the correct class of responses.\n",
    "\n",
    "- a. The dataset: motion-evidence samples taken from Wikipedia with acceptance rate scored from 0-1 (acceptance rate being confidence that the text contains evidence for the motion)\n",
    "- b. over 29,000 evidence claims with relevant motion and concept\n",
    "\n",
    "Goals of the model: Should be able to determine which topic is being discussed and whether the sentence contains evidence on the motion or not"
   ]
  },
  {
   "cell_type": "code",
   "execution_count": 16,
   "metadata": {},
   "outputs": [],
   "source": [
    "#Generating the relevant target and feature columns. The data  column is both the motion and evidence, as this helps the model train on a GIVEN topic (see Liat Ein-Dor et al., 2020)\n",
    "\n",
    "dataset_arg_detect_wiki['target'] = dataset_arg_detect_wiki['acceptanceRate'].apply(lambda x: 1 if x > 0.5 else 0)\n",
    "dataset_arg_detect_wiki = dataset_arg_detect_wiki.drop(columns= ['Wikipedia article_id', 'Wikipedia article_title'])\n",
    "dataset_arg_detect_wiki['data'] = dataset_arg_detect_wiki['Evidence'] + ' ' + dataset_arg_detect_wiki['Motion Text']"
   ]
  },
  {
   "cell_type": "code",
   "execution_count": 17,
   "metadata": {},
   "outputs": [
    {
     "data": {
      "text/html": [
       "<div>\n",
       "<style scoped>\n",
       "    .dataframe tbody tr th:only-of-type {\n",
       "        vertical-align: middle;\n",
       "    }\n",
       "\n",
       "    .dataframe tbody tr th {\n",
       "        vertical-align: top;\n",
       "    }\n",
       "\n",
       "    .dataframe thead th {\n",
       "        text-align: right;\n",
       "    }\n",
       "</style>\n",
       "<table border=\"1\" class=\"dataframe\">\n",
       "  <thead>\n",
       "    <tr style=\"text-align: right;\">\n",
       "      <th></th>\n",
       "      <th>Motion Text</th>\n",
       "      <th>Dominant Concept</th>\n",
       "      <th>Evidence</th>\n",
       "      <th>acceptanceRate</th>\n",
       "      <th>target</th>\n",
       "      <th>data</th>\n",
       "    </tr>\n",
       "  </thead>\n",
       "  <tbody>\n",
       "    <tr>\n",
       "      <th>145</th>\n",
       "      <td>We should legalize doping in sport</td>\n",
       "      <td>Doping in sport</td>\n",
       "      <td>A routine unannounced drug test found the bann...</td>\n",
       "      <td>0.0</td>\n",
       "      <td>0</td>\n",
       "      <td>A routine unannounced drug test found the bann...</td>\n",
       "    </tr>\n",
       "    <tr>\n",
       "      <th>154</th>\n",
       "      <td>We should legalize doping in sport</td>\n",
       "      <td>Doping in sport</td>\n",
       "      <td>A report by a joint International Swimming Fed...</td>\n",
       "      <td>0.0</td>\n",
       "      <td>0</td>\n",
       "      <td>A report by a joint International Swimming Fed...</td>\n",
       "    </tr>\n",
       "    <tr>\n",
       "      <th>155</th>\n",
       "      <td>We should legalize doping in sport</td>\n",
       "      <td>Doping in sport</td>\n",
       "      <td>In his book Clearing the Bases, he said that a...</td>\n",
       "      <td>0.0</td>\n",
       "      <td>0</td>\n",
       "      <td>In his book Clearing the Bases, he said that a...</td>\n",
       "    </tr>\n",
       "    <tr>\n",
       "      <th>160</th>\n",
       "      <td>We should legalize doping in sport</td>\n",
       "      <td>Doping in sport</td>\n",
       "      <td>Matthew Syed countered that while the incident...</td>\n",
       "      <td>0.0</td>\n",
       "      <td>0</td>\n",
       "      <td>Matthew Syed countered that while the incident...</td>\n",
       "    </tr>\n",
       "    <tr>\n",
       "      <th>166</th>\n",
       "      <td>We should legalize doping in sport</td>\n",
       "      <td>Doping in sport</td>\n",
       "      <td>After Landis' A sample tested positive for tes...</td>\n",
       "      <td>0.0</td>\n",
       "      <td>0</td>\n",
       "      <td>After Landis' A sample tested positive for tes...</td>\n",
       "    </tr>\n",
       "    <tr>\n",
       "      <th>...</th>\n",
       "      <td>...</td>\n",
       "      <td>...</td>\n",
       "      <td>...</td>\n",
       "      <td>...</td>\n",
       "      <td>...</td>\n",
       "      <td>...</td>\n",
       "    </tr>\n",
       "    <tr>\n",
       "      <th>77</th>\n",
       "      <td>We should legalize doping in sport</td>\n",
       "      <td>Doping in sport</td>\n",
       "      <td>It is estimated that around 10,000 former athl...</td>\n",
       "      <td>1.0</td>\n",
       "      <td>1</td>\n",
       "      <td>It is estimated that around 10,000 former athl...</td>\n",
       "    </tr>\n",
       "    <tr>\n",
       "      <th>152</th>\n",
       "      <td>We should legalize doping in sport</td>\n",
       "      <td>Doping in sport</td>\n",
       "      <td>Another point of view is that doping could be ...</td>\n",
       "      <td>1.0</td>\n",
       "      <td>1</td>\n",
       "      <td>Another point of view is that doping could be ...</td>\n",
       "    </tr>\n",
       "    <tr>\n",
       "      <th>80</th>\n",
       "      <td>We should legalize doping in sport</td>\n",
       "      <td>Doping in sport</td>\n",
       "      <td>A recent study has also shown that long term A...</td>\n",
       "      <td>1.0</td>\n",
       "      <td>1</td>\n",
       "      <td>A recent study has also shown that long term A...</td>\n",
       "    </tr>\n",
       "    <tr>\n",
       "      <th>112</th>\n",
       "      <td>We should legalize doping in sport</td>\n",
       "      <td>Doping in sport</td>\n",
       "      <td>A 2005 review in CNS Drugs determined that \"si...</td>\n",
       "      <td>1.0</td>\n",
       "      <td>1</td>\n",
       "      <td>A 2005 review in CNS Drugs determined that \"si...</td>\n",
       "    </tr>\n",
       "    <tr>\n",
       "      <th>117</th>\n",
       "      <td>We should legalize doping in sport</td>\n",
       "      <td>Doping in sport</td>\n",
       "      <td>Sports lawyer Michelle Gallen has said that th...</td>\n",
       "      <td>1.0</td>\n",
       "      <td>1</td>\n",
       "      <td>Sports lawyer Michelle Gallen has said that th...</td>\n",
       "    </tr>\n",
       "  </tbody>\n",
       "</table>\n",
       "<p>212 rows × 6 columns</p>\n",
       "</div>"
      ],
      "text/plain": [
       "                            Motion Text Dominant Concept  \\\n",
       "145  We should legalize doping in sport  Doping in sport   \n",
       "154  We should legalize doping in sport  Doping in sport   \n",
       "155  We should legalize doping in sport  Doping in sport   \n",
       "160  We should legalize doping in sport  Doping in sport   \n",
       "166  We should legalize doping in sport  Doping in sport   \n",
       "..                                  ...              ...   \n",
       "77   We should legalize doping in sport  Doping in sport   \n",
       "152  We should legalize doping in sport  Doping in sport   \n",
       "80   We should legalize doping in sport  Doping in sport   \n",
       "112  We should legalize doping in sport  Doping in sport   \n",
       "117  We should legalize doping in sport  Doping in sport   \n",
       "\n",
       "                                              Evidence  acceptanceRate  \\\n",
       "145  A routine unannounced drug test found the bann...             0.0   \n",
       "154  A report by a joint International Swimming Fed...             0.0   \n",
       "155  In his book Clearing the Bases, he said that a...             0.0   \n",
       "160  Matthew Syed countered that while the incident...             0.0   \n",
       "166  After Landis' A sample tested positive for tes...             0.0   \n",
       "..                                                 ...             ...   \n",
       "77   It is estimated that around 10,000 former athl...             1.0   \n",
       "152  Another point of view is that doping could be ...             1.0   \n",
       "80   A recent study has also shown that long term A...             1.0   \n",
       "112  A 2005 review in CNS Drugs determined that \"si...             1.0   \n",
       "117  Sports lawyer Michelle Gallen has said that th...             1.0   \n",
       "\n",
       "     target                                               data  \n",
       "145       0  A routine unannounced drug test found the bann...  \n",
       "154       0  A report by a joint International Swimming Fed...  \n",
       "155       0  In his book Clearing the Bases, he said that a...  \n",
       "160       0  Matthew Syed countered that while the incident...  \n",
       "166       0  After Landis' A sample tested positive for tes...  \n",
       "..      ...                                                ...  \n",
       "77        1  It is estimated that around 10,000 former athl...  \n",
       "152       1  Another point of view is that doping could be ...  \n",
       "80        1  A recent study has also shown that long term A...  \n",
       "112       1  A 2005 review in CNS Drugs determined that \"si...  \n",
       "117       1  Sports lawyer Michelle Gallen has said that th...  \n",
       "\n",
       "[212 rows x 6 columns]"
      ]
     },
     "execution_count": 17,
     "metadata": {},
     "output_type": "execute_result"
    }
   ],
   "source": [
    "dataset_arg_detect_wiki.sort_values(by = 'acceptanceRate', ascending=True).loc[dataset_arg_detect_wiki['Dominant Concept'] == 'Doping in sport'][:]"
   ]
  },
  {
   "cell_type": "code",
   "execution_count": 68,
   "metadata": {},
   "outputs": [
    {
     "name": "stdout",
     "output_type": "stream",
     "text": [
      "A 2005 review in CNS Drugs determined that \"significant psychiatric symptoms including aggression and violence, mania, and less frequently psychosis and suicide have been associated with steroid abuse 19218324\n"
     ]
    },
    {
     "name": "stderr",
     "output_type": "stream",
     "text": [
      "/Users/danielbradley/opt/anaconda3/lib/python3.8/site-packages/torch/autocast_mode.py:162: UserWarning: User provided device_type of 'cuda', but CUDA is not available. Disabling\n",
      "  warnings.warn('User provided device_type of \\'cuda\\', but CUDA is not available. Disabling')\n"
     ]
    },
    {
     "data": {
      "text/plain": [
       "{'LABEL': 0.24414502084255219, 'NOT_LABEL': 0.7558550238609314}"
      ]
     },
     "execution_count": 68,
     "metadata": {},
     "output_type": "execute_result"
    }
   ],
   "source": [
    "article_num = 112\n",
    "print(dataset_arg_detect_wiki.iloc[article_num,2], dataset_arg_detect_wiki.iloc[article_num,4])\n",
    "nlp(dataset_arg_detect_wiki.iloc[article_num,2]).cats"
   ]
  },
  {
   "cell_type": "markdown",
   "metadata": {},
   "source": [
    "### Model training is done on Google Colab. Re-import here when it's complete."
   ]
  },
  {
   "cell_type": "code",
   "execution_count": 57,
   "metadata": {},
   "outputs": [],
   "source": [
    "#Import the trained google colab model\n",
    "import spacy\n",
    "nlp_baseline = spacy.load('models/arg_detect_sample_model')\n",
    "nlp = spacy.load('models/arg_detect_full_model_transformer')"
   ]
  },
  {
   "cell_type": "code",
   "execution_count": 63,
   "metadata": {},
   "outputs": [
    {
     "name": "stderr",
     "output_type": "stream",
     "text": [
      "/Users/danielbradley/opt/anaconda3/lib/python3.8/site-packages/torch/autocast_mode.py:162: UserWarning: User provided device_type of 'cuda', but CUDA is not available. Disabling\n",
      "  warnings.warn('User provided device_type of \\'cuda\\', but CUDA is not available. Disabling')\n"
     ]
    },
    {
     "data": {
      "text/html": [
       "<div>\n",
       "<style scoped>\n",
       "    .dataframe tbody tr th:only-of-type {\n",
       "        vertical-align: middle;\n",
       "    }\n",
       "\n",
       "    .dataframe tbody tr th {\n",
       "        vertical-align: top;\n",
       "    }\n",
       "\n",
       "    .dataframe thead th {\n",
       "        text-align: right;\n",
       "    }\n",
       "</style>\n",
       "<table border=\"1\" class=\"dataframe\">\n",
       "  <thead>\n",
       "    <tr style=\"text-align: right;\">\n",
       "      <th></th>\n",
       "      <th>Unnamed: 0</th>\n",
       "      <th>feature</th>\n",
       "      <th>target</th>\n",
       "      <th>pred</th>\n",
       "    </tr>\n",
       "  </thead>\n",
       "  <tbody>\n",
       "    <tr>\n",
       "      <th>0</th>\n",
       "      <td>0</td>\n",
       "      <td>In the plan, the Obama Administration responds...</td>\n",
       "      <td>1</td>\n",
       "      <td>1</td>\n",
       "    </tr>\n",
       "    <tr>\n",
       "      <th>1</th>\n",
       "      <td>1</td>\n",
       "      <td>Spooner's essay \"No Treason\"[REF] offers an in...</td>\n",
       "      <td>0</td>\n",
       "      <td>0</td>\n",
       "    </tr>\n",
       "    <tr>\n",
       "      <th>2</th>\n",
       "      <td>2</td>\n",
       "      <td>Due to the high number of high-profile urban o...</td>\n",
       "      <td>0</td>\n",
       "      <td>1</td>\n",
       "    </tr>\n",
       "    <tr>\n",
       "      <th>3</th>\n",
       "      <td>3</td>\n",
       "      <td>After a long humbling year temping as a traffi...</td>\n",
       "      <td>0</td>\n",
       "      <td>0</td>\n",
       "    </tr>\n",
       "    <tr>\n",
       "      <th>4</th>\n",
       "      <td>4</td>\n",
       "      <td>Fenn claimed that he owned the technology beca...</td>\n",
       "      <td>0</td>\n",
       "      <td>0</td>\n",
       "    </tr>\n",
       "  </tbody>\n",
       "</table>\n",
       "</div>"
      ],
      "text/plain": [
       "   Unnamed: 0                                            feature  target  pred\n",
       "0           0  In the plan, the Obama Administration responds...       1     1\n",
       "1           1  Spooner's essay \"No Treason\"[REF] offers an in...       0     0\n",
       "2           2  Due to the high number of high-profile urban o...       0     1\n",
       "3           3  After a long humbling year temping as a traffi...       0     0\n",
       "4           4  Fenn claimed that he owned the technology beca...       0     0"
      ]
     },
     "execution_count": 63,
     "metadata": {},
     "output_type": "execute_result"
    }
   ],
   "source": [
    "# This cell was run to load in the dataset initially. Re-load using same file\n",
    "\n",
    "# dev_df = pd.read_csv('processed_data/arg_detect_test.csv')\n",
    "# dev_df['pred'] = dev_df['feature'].apply(lambda x: 1 if nlp(x).cats['LABEL'] > 0.5 else 0)\n",
    "# dev_df.head()\n",
    "# dev_df.to_csv('processed_data/arg_detect_test_df.csv')"
   ]
  },
  {
   "cell_type": "code",
   "execution_count": 19,
   "metadata": {},
   "outputs": [
    {
     "data": {
      "text/html": [
       "<div>\n",
       "<style scoped>\n",
       "    .dataframe tbody tr th:only-of-type {\n",
       "        vertical-align: middle;\n",
       "    }\n",
       "\n",
       "    .dataframe tbody tr th {\n",
       "        vertical-align: top;\n",
       "    }\n",
       "\n",
       "    .dataframe thead th {\n",
       "        text-align: right;\n",
       "    }\n",
       "</style>\n",
       "<table border=\"1\" class=\"dataframe\">\n",
       "  <thead>\n",
       "    <tr style=\"text-align: right;\">\n",
       "      <th></th>\n",
       "      <th>feature</th>\n",
       "      <th>target</th>\n",
       "      <th>pred_full</th>\n",
       "      <th>pred_baseline</th>\n",
       "    </tr>\n",
       "  </thead>\n",
       "  <tbody>\n",
       "    <tr>\n",
       "      <th>0</th>\n",
       "      <td>In the plan, the Obama Administration responds...</td>\n",
       "      <td>1</td>\n",
       "      <td>1</td>\n",
       "      <td>0</td>\n",
       "    </tr>\n",
       "    <tr>\n",
       "      <th>1</th>\n",
       "      <td>Spooner's essay \"No Treason\"[REF] offers an in...</td>\n",
       "      <td>0</td>\n",
       "      <td>0</td>\n",
       "      <td>0</td>\n",
       "    </tr>\n",
       "    <tr>\n",
       "      <th>2</th>\n",
       "      <td>Due to the high number of high-profile urban o...</td>\n",
       "      <td>0</td>\n",
       "      <td>1</td>\n",
       "      <td>1</td>\n",
       "    </tr>\n",
       "    <tr>\n",
       "      <th>3</th>\n",
       "      <td>After a long humbling year temping as a traffi...</td>\n",
       "      <td>0</td>\n",
       "      <td>0</td>\n",
       "      <td>0</td>\n",
       "    </tr>\n",
       "    <tr>\n",
       "      <th>4</th>\n",
       "      <td>Fenn claimed that he owned the technology beca...</td>\n",
       "      <td>0</td>\n",
       "      <td>0</td>\n",
       "      <td>0</td>\n",
       "    </tr>\n",
       "  </tbody>\n",
       "</table>\n",
       "</div>"
      ],
      "text/plain": [
       "                                             feature  target  pred_full  \\\n",
       "0  In the plan, the Obama Administration responds...       1          1   \n",
       "1  Spooner's essay \"No Treason\"[REF] offers an in...       0          0   \n",
       "2  Due to the high number of high-profile urban o...       0          1   \n",
       "3  After a long humbling year temping as a traffi...       0          0   \n",
       "4  Fenn claimed that he owned the technology beca...       0          0   \n",
       "\n",
       "   pred_baseline  \n",
       "0              0  \n",
       "1              0  \n",
       "2              1  \n",
       "3              0  \n",
       "4              0  "
      ]
     },
     "execution_count": 19,
     "metadata": {},
     "output_type": "execute_result"
    }
   ],
   "source": [
    "dev_df = pd.read_csv('processed_data/arg_detect_test_df.csv').drop(columns= ['Unnamed: 0', 'Unnamed: 0.1']).rename(columns={'pred': 'pred_full'})\n",
    "dev_df['pred_baseline'] = dev_df['feature'].apply(lambda x: 1 if nlp_baseline(x).cats['argumentative'] > 0.5 else 0)\n",
    "dev_df.head()"
   ]
  },
  {
   "cell_type": "code",
   "execution_count": 26,
   "metadata": {},
   "outputs": [
    {
     "data": {
      "text/plain": [
       "0    4437\n",
       "1    1449\n",
       "Name: target, dtype: int64"
      ]
     },
     "execution_count": 26,
     "metadata": {},
     "output_type": "execute_result"
    }
   ],
   "source": [
    "dev_df['target'].value_counts()"
   ]
  },
  {
   "cell_type": "markdown",
   "metadata": {},
   "source": [
    "### Run for the baseline model"
   ]
  },
  {
   "cell_type": "code",
   "execution_count": 182,
   "metadata": {},
   "outputs": [
    {
     "data": {
      "image/png": "[encoded data removed]",
      "text/plain": [
       "<Figure size 432x288 with 2 Axes>"
      ]
     },
     "metadata": {
      "needs_background": "light"
     },
     "output_type": "display_data"
    }
   ],
   "source": [
    "from sklearn.metrics import confusion_matrix, ConfusionMatrixDisplay, classification_report\n",
    "conf = confusion_matrix(dev_df['target'], dev_df['pred_baseline'])\n",
    "disp = ConfusionMatrixDisplay(conf, display_labels = ['Not argumentative', 'Argumentative'])\n",
    "disp.plot()\n",
    "plt.savefig('figures/arg_detect_baseline.png', transparent=True, dpi = 800, bbox_inches='tight');"
   ]
  },
  {
   "cell_type": "markdown",
   "metadata": {},
   "source": [
    "### Run again for the full model"
   ]
  },
  {
   "cell_type": "code",
   "execution_count": 156,
   "metadata": {},
   "outputs": [
    {
     "data": {
      "text/plain": [
       "<Figure size 432x288 with 0 Axes>"
      ]
     },
     "metadata": {},
     "output_type": "display_data"
    },
    {
     "data": {
      "image/png": "[encoded data removed]",
      "text/plain": [
       "<Figure size 432x288 with 2 Axes>"
      ]
     },
     "metadata": {
      "needs_background": "light"
     },
     "output_type": "display_data"
    }
   ],
   "source": [
    "from sklearn.metrics import confusion_matrix, ConfusionMatrixDisplay, classification_report\n",
    "conf = confusion_matrix(dev_df['target'], dev_df['pred_full'])\n",
    "disp = ConfusionMatrixDisplay(conf, display_labels = ['Not argumentative', 'Argumentative'])\n",
    "plt.savefig('figures/arg_detect_baseline.png', transparent=True, dpi = 800, bbox_inches='tight');\n",
    "disp.plot()\n",
    "plt.savefig('figures/arg_detect_full.png', transparent=True, dpi = 800, bbox_inches='tight');"
   ]
  },
  {
   "cell_type": "code",
   "execution_count": 25,
   "metadata": {},
   "outputs": [
    {
     "name": "stdout",
     "output_type": "stream",
     "text": [
      "Baseline model report:\n",
      "\n",
      "              precision    recall  f1-score   support\n",
      "\n",
      "           0       0.87      0.94      0.91      4437\n",
      "           1       0.77      0.59      0.67      1449\n",
      "\n",
      "    accuracy                           0.85      5886\n",
      "   macro avg       0.82      0.76      0.79      5886\n",
      "weighted avg       0.85      0.85      0.85      5886\n",
      "\n",
      "\n",
      "Full model report:\n",
      "\n",
      "              precision    recall  f1-score   support\n",
      "\n",
      "           0       0.90      0.93      0.91      4437\n",
      "           1       0.75      0.68      0.72      1449\n",
      "\n",
      "    accuracy                           0.87      5886\n",
      "   macro avg       0.83      0.80      0.81      5886\n",
      "weighted avg       0.86      0.87      0.86      5886\n",
      "\n"
     ]
    }
   ],
   "source": [
    "print('Baseline model report:')\n",
    "print('')\n",
    "print(classification_report(dev_df['target'], dev_df['pred_baseline']))\n",
    "print('')\n",
    "print('Full model report:')\n",
    "print('')\n",
    "print(classification_report(dev_df['target'], dev_df['pred_full']))"
   ]
  },
  {
   "cell_type": "markdown",
   "metadata": {},
   "source": [
    "### Conclusion\n",
    "The full model appears to perform better on the argumentative set (the positive case) than the baseline model. More training should be done on the full model since only one epoch was completed on the full model and will certainly improve with further training."
   ]
  },
  {
   "cell_type": "code",
   "execution_count": 158,
   "metadata": {},
   "outputs": [
    {
     "data": {
      "text/plain": [
       "0.8040685539583149"
      ]
     },
     "execution_count": 158,
     "metadata": {},
     "output_type": "execute_result"
    }
   ],
   "source": [
    "from sklearn.metrics import roc_auc_score\n",
    "from sklearn.preprocessing import label_binarize\n",
    "from sklearn.metrics import roc_curve, auc\n",
    "roc_auc_score(dev_df['target'], dev_df['pred_full'])"
   ]
  },
  {
   "cell_type": "code",
   "execution_count": 179,
   "metadata": {},
   "outputs": [],
   "source": [
    "# Compute ROC curve and ROC area for each class\n",
    "y_test = list(dev_df['target'])\n",
    "y_score = list(dev_df['pred_full'])\n",
    "\n",
    "y = label_binarize(y_test, classes=[0, 1])\n",
    "n_classes = y.shape[1]\n",
    "\n",
    "fpr = dict()\n",
    "tpr = dict()\n",
    "roc_auc = dict()\n",
    "fpr, tpr, _ = roc_curve(y_test, y_score)\n",
    "roc_auc = auc(fpr, tpr)"
   ]
  },
  {
   "cell_type": "code",
   "execution_count": 180,
   "metadata": {},
   "outputs": [],
   "source": [
    "# Compute ROC curve and ROC area for each class for BASELINE\n",
    "y_test = list(dev_df['target'])\n",
    "y_score = list(dev_df['pred_baseline'])\n",
    "\n",
    "y = label_binarize(y_test, classes=[0, 1])\n",
    "n_classes = y.shape[1]\n",
    "\n",
    "fpr_base = dict()\n",
    "tpr_base = dict()\n",
    "roc_auc_base = dict()\n",
    "fpr_base, tpr_base, _ = roc_curve(y_test, y_score)\n",
    "roc_auc_base = auc(fpr_base, tpr_base)"
   ]
  },
  {
   "cell_type": "code",
   "execution_count": 181,
   "metadata": {},
   "outputs": [
    {
     "data": {
      "image/png": "[encoded data removed]",
      "text/plain": [
       "<Figure size 432x288 with 1 Axes>"
      ]
     },
     "metadata": {
      "needs_background": "light"
     },
     "output_type": "display_data"
    },
    {
     "data": {
      "text/plain": [
       "<Figure size 432x288 with 0 Axes>"
      ]
     },
     "metadata": {},
     "output_type": "display_data"
    }
   ],
   "source": [
    "fig, ax = plt.subplots()\n",
    "plt.figure()\n",
    "lw = 2\n",
    "ax.plot(\n",
    "    fpr,\n",
    "    tpr,\n",
    "    color=\"darkorange\",\n",
    "    lw=lw,\n",
    "    label=\"BERT (area = %0.2f)\" % roc_auc,\n",
    ")\n",
    "ax.plot(\n",
    "    fpr_base,\n",
    "    tpr_base,\n",
    "    color=\"red\",\n",
    "    lw=lw,\n",
    "    label=\"BERT Baseline (area = %0.2f)\" % roc_auc_base,\n",
    ")\n",
    "ax.plot([0, 1], [0, 1], color=\"navy\", lw=lw, linestyle=\"--\")\n",
    "ax.set_ylim([0.0, 1.0])\n",
    "ax.set_xlim([0.0, 1.05])\n",
    "ax.set_ylabel(\"True Positive Rate\")\n",
    "ax.set_xlabel(\"False Positive Rate\")\n",
    "ax.set_title(\"Receiver operating characteristic curve\")\n",
    "ax.legend(loc=\"lower right\")\n",
    "fig.savefig('figures/arg_detect_roc_auc.png', transparent=True, dpi = 800, bbox_inches='tight');"
   ]
  },
  {
   "cell_type": "markdown",
   "metadata": {},
   "source": [
    "## Dataset #2: Argument quality"
   ]
  },
  {
   "cell_type": "code",
   "execution_count": 10,
   "metadata": {},
   "outputs": [
    {
     "data": {
      "text/html": [
       "<div>\n",
       "<style scoped>\n",
       "    .dataframe tbody tr th:only-of-type {\n",
       "        vertical-align: middle;\n",
       "    }\n",
       "\n",
       "    .dataframe tbody tr th {\n",
       "        vertical-align: top;\n",
       "    }\n",
       "\n",
       "    .dataframe thead th {\n",
       "        text-align: right;\n",
       "    }\n",
       "</style>\n",
       "<table border=\"1\" class=\"dataframe\">\n",
       "  <thead>\n",
       "    <tr style=\"text-align: right;\">\n",
       "      <th></th>\n",
       "      <th>topic</th>\n",
       "      <th>evidence_1</th>\n",
       "      <th>evidence_2</th>\n",
       "      <th>label</th>\n",
       "      <th>acceptance_rate</th>\n",
       "      <th>evidence_1_stance</th>\n",
       "      <th>evidence_2_stance</th>\n",
       "      <th>evidence_1_detection_score</th>\n",
       "      <th>evidence_2_detection_score</th>\n",
       "      <th>evidence_1_id</th>\n",
       "      <th>evidence_2_id</th>\n",
       "      <th>evidence_1_wikipedia_article_name</th>\n",
       "      <th>evidence_2_wikipedia_article_name</th>\n",
       "      <th>evidence_1_wikipedia_url</th>\n",
       "      <th>evidence_2_wikipedia_url</th>\n",
       "    </tr>\n",
       "  </thead>\n",
       "  <tbody>\n",
       "    <tr>\n",
       "      <th>0</th>\n",
       "      <td>We should end affirmative action</td>\n",
       "      <td>In February 2007, Sarkozy appeared on a televi...</td>\n",
       "      <td>Williams believes programs such as affirmative...</td>\n",
       "      <td>2</td>\n",
       "      <td>1.00</td>\n",
       "      <td>CON</td>\n",
       "      <td>PRO</td>\n",
       "      <td>0.340517</td>\n",
       "      <td>0.469968</td>\n",
       "      <td>2469</td>\n",
       "      <td>2478</td>\n",
       "      <td>Nicolas Sarkozy</td>\n",
       "      <td>Walter E. Williams</td>\n",
       "      <td>https://en.wikipedia.org/wiki/Nicolas_Sarkozy</td>\n",
       "      <td>https://en.wikipedia.org/wiki/Walter_E._Williams</td>\n",
       "    </tr>\n",
       "    <tr>\n",
       "      <th>1</th>\n",
       "      <td>We should subsidize condoms</td>\n",
       "      <td>In 2009, Lewis strongly criticized Pope Benedi...</td>\n",
       "      <td>Green said that according to the \"best studies...</td>\n",
       "      <td>2</td>\n",
       "      <td>0.63</td>\n",
       "      <td>PRO</td>\n",
       "      <td>CON</td>\n",
       "      <td>0.903295</td>\n",
       "      <td>0.861465</td>\n",
       "      <td>1743</td>\n",
       "      <td>1750</td>\n",
       "      <td>Stephen Lewis</td>\n",
       "      <td>HIV/AIDS in the Philippines</td>\n",
       "      <td>https://en.wikipedia.org/wiki/Stephen_Lewis</td>\n",
       "      <td>https://en.wikipedia.org/wiki/HIV/AIDS_in_the_...</td>\n",
       "    </tr>\n",
       "    <tr>\n",
       "      <th>2</th>\n",
       "      <td>We should legalize prostitution</td>\n",
       "      <td>The appellants' argument then, more precisely ...</td>\n",
       "      <td>Feminists who hold such views on prostitution ...</td>\n",
       "      <td>1</td>\n",
       "      <td>0.71</td>\n",
       "      <td>CON</td>\n",
       "      <td>CON</td>\n",
       "      <td>0.644333</td>\n",
       "      <td>0.674035</td>\n",
       "      <td>1564</td>\n",
       "      <td>1608</td>\n",
       "      <td>Prostitution in Canada</td>\n",
       "      <td>Feminism</td>\n",
       "      <td>https://en.wikipedia.org/wiki/Prostitution_in_...</td>\n",
       "      <td>https://en.wikipedia.org/wiki/Feminism</td>\n",
       "    </tr>\n",
       "    <tr>\n",
       "      <th>3</th>\n",
       "      <td>We should adopt socialism</td>\n",
       "      <td>As a model for the development of post-colonia...</td>\n",
       "      <td>Lange and Lerner also admitted that socialism ...</td>\n",
       "      <td>1</td>\n",
       "      <td>0.67</td>\n",
       "      <td>CON</td>\n",
       "      <td>CON</td>\n",
       "      <td>0.607890</td>\n",
       "      <td>0.543936</td>\n",
       "      <td>3517</td>\n",
       "      <td>3530</td>\n",
       "      <td>Randolph Foundation</td>\n",
       "      <td>Economic calculation problem</td>\n",
       "      <td>https://en.wikipedia.org/wiki/Randolph_Foundation</td>\n",
       "      <td>https://en.wikipedia.org/wiki/Economic_calcula...</td>\n",
       "    </tr>\n",
       "    <tr>\n",
       "      <th>4</th>\n",
       "      <td>We should prohibit corporal punishment</td>\n",
       "      <td>The research that is available supports the po...</td>\n",
       "      <td>In November 2009, the government of the People...</td>\n",
       "      <td>1</td>\n",
       "      <td>0.90</td>\n",
       "      <td>PRO</td>\n",
       "      <td>PRO</td>\n",
       "      <td>0.641014</td>\n",
       "      <td>0.727950</td>\n",
       "      <td>3384</td>\n",
       "      <td>3393</td>\n",
       "      <td>Corporal punishment in the home</td>\n",
       "      <td>Internet addiction disorder</td>\n",
       "      <td>https://en.wikipedia.org/wiki/Corporal_punishm...</td>\n",
       "      <td>https://en.wikipedia.org/wiki/Internet_addicti...</td>\n",
       "    </tr>\n",
       "  </tbody>\n",
       "</table>\n",
       "</div>"
      ],
      "text/plain": [
       "                                    topic  \\\n",
       "0        We should end affirmative action   \n",
       "1             We should subsidize condoms   \n",
       "2         We should legalize prostitution   \n",
       "3               We should adopt socialism   \n",
       "4  We should prohibit corporal punishment   \n",
       "\n",
       "                                          evidence_1  \\\n",
       "0  In February 2007, Sarkozy appeared on a televi...   \n",
       "1  In 2009, Lewis strongly criticized Pope Benedi...   \n",
       "2  The appellants' argument then, more precisely ...   \n",
       "3  As a model for the development of post-colonia...   \n",
       "4  The research that is available supports the po...   \n",
       "\n",
       "                                          evidence_2  label  acceptance_rate  \\\n",
       "0  Williams believes programs such as affirmative...      2             1.00   \n",
       "1  Green said that according to the \"best studies...      2             0.63   \n",
       "2  Feminists who hold such views on prostitution ...      1             0.71   \n",
       "3  Lange and Lerner also admitted that socialism ...      1             0.67   \n",
       "4  In November 2009, the government of the People...      1             0.90   \n",
       "\n",
       "  evidence_1_stance evidence_2_stance  evidence_1_detection_score  \\\n",
       "0               CON               PRO                    0.340517   \n",
       "1               PRO               CON                    0.903295   \n",
       "2               CON               CON                    0.644333   \n",
       "3               CON               CON                    0.607890   \n",
       "4               PRO               PRO                    0.641014   \n",
       "\n",
       "   evidence_2_detection_score  evidence_1_id  evidence_2_id  \\\n",
       "0                    0.469968           2469           2478   \n",
       "1                    0.861465           1743           1750   \n",
       "2                    0.674035           1564           1608   \n",
       "3                    0.543936           3517           3530   \n",
       "4                    0.727950           3384           3393   \n",
       "\n",
       "  evidence_1_wikipedia_article_name evidence_2_wikipedia_article_name  \\\n",
       "0                   Nicolas Sarkozy                Walter E. Williams   \n",
       "1                     Stephen Lewis       HIV/AIDS in the Philippines   \n",
       "2            Prostitution in Canada                          Feminism   \n",
       "3               Randolph Foundation      Economic calculation problem   \n",
       "4   Corporal punishment in the home       Internet addiction disorder   \n",
       "\n",
       "                            evidence_1_wikipedia_url  \\\n",
       "0      https://en.wikipedia.org/wiki/Nicolas_Sarkozy   \n",
       "1        https://en.wikipedia.org/wiki/Stephen_Lewis   \n",
       "2  https://en.wikipedia.org/wiki/Prostitution_in_...   \n",
       "3  https://en.wikipedia.org/wiki/Randolph_Foundation   \n",
       "4  https://en.wikipedia.org/wiki/Corporal_punishm...   \n",
       "\n",
       "                            evidence_2_wikipedia_url  \n",
       "0   https://en.wikipedia.org/wiki/Walter_E._Williams  \n",
       "1  https://en.wikipedia.org/wiki/HIV/AIDS_in_the_...  \n",
       "2             https://en.wikipedia.org/wiki/Feminism  \n",
       "3  https://en.wikipedia.org/wiki/Economic_calcula...  \n",
       "4  https://en.wikipedia.org/wiki/Internet_addicti...  "
      ]
     },
     "execution_count": 10,
     "metadata": {},
     "output_type": "execute_result"
    }
   ],
   "source": [
    "dataset_arg_qual_train.head()"
   ]
  },
  {
   "cell_type": "code",
   "execution_count": 43,
   "metadata": {},
   "outputs": [],
   "source": [
    "dataset_arg_qual_train = dataset_arg_qual_train[['evidence_1', 'evidence_2', 'label', 'acceptance_rate', 'evidence_1_detection_score', 'evidence_2_detection_score']]"
   ]
  },
  {
   "cell_type": "code",
   "execution_count": null,
   "metadata": {},
   "outputs": [
    {
     "ename": "",
     "evalue": "",
     "output_type": "error",
     "traceback": [
      "\u001b[1;31mRunning cells with 'Python 3.8.13 ('base')' requires ipykernel package.\n",
      "Run the following command to install 'ipykernel' into the Python environment. \n",
      "Command: 'conda install -n base ipykernel --update-deps --force-reinstall'"
     ]
    }
   ],
   "source": [
    "dataset_arg_qual_train.iloc[4,:][1]"
   ]
  },
  {
   "cell_type": "code",
   "execution_count": 67,
   "metadata": {},
   "outputs": [
    {
     "data": {
      "text/plain": [
       "'Williams believes programs such as affirmative action and minimum wage laws set up to aide minorities have, in fact, been harmful to them and stifled their ability to advance in society.'"
      ]
     },
     "execution_count": 67,
     "metadata": {},
     "output_type": "execute_result"
    }
   ],
   "source": [
    "dataset_arg_qual_train.iloc[0,:][2]"
   ]
  },
  {
   "cell_type": "markdown",
   "metadata": {},
   "source": [
    "### The problem:\n",
    "\n",
    "The dataset is structured as follows:\n",
    "\n",
    "FEATURES:\n",
    "There are two features, either of which can be for or against a given motion. The feature is a statement making an argument about some motion with supporting evidence.\n",
    "\n",
    "OUTPUT:\n",
    "The desired output is a convincingness score for a single document, 1 being convincing and 0 being not convincing.\n",
    "\n",
    "#### Implementation:\n",
    "Create a siamese neural network where each leg of the network is a Bidirectional LSTM model. Then apply a softmax on the outputs of both models to determine which one is more convincing. Use a dummy score placeholder to look at the convincingness of a single statement."
   ]
  },
  {
   "cell_type": "markdown",
   "metadata": {},
   "source": [
    "## Dataset #3: Argument stance detection\n",
    "The full BERT model was trained in a Google Colab notebook as a GPU was needed to refine the transformer. The GPU was a Tesla T4 with 16GB of VRAM and the model ran for 7 hours, 2 minutes, and 47 seconds. The model built 119 epochs before it was aborted early as the model converged by epoch ~25.\n",
    "\n",
    "Link: https://colab.research.google.com/drive/1tZ0tOJn5gFho3tUBOwPpgszz4GUsy1iQ#scrollTo=OajL670RVqr3"
   ]
  },
  {
   "cell_type": "code",
   "execution_count": 69,
   "metadata": {},
   "outputs": [
    {
     "data": {
      "text/html": [
       "<div>\n",
       "<style scoped>\n",
       "    .dataframe tbody tr th:only-of-type {\n",
       "        vertical-align: middle;\n",
       "    }\n",
       "\n",
       "    .dataframe tbody tr th {\n",
       "        vertical-align: top;\n",
       "    }\n",
       "\n",
       "    .dataframe thead th {\n",
       "        text-align: right;\n",
       "    }\n",
       "</style>\n",
       "<table border=\"1\" class=\"dataframe\">\n",
       "  <thead>\n",
       "    <tr style=\"text-align: right;\">\n",
       "      <th></th>\n",
       "      <th>topicId</th>\n",
       "      <th>split</th>\n",
       "      <th>topicText</th>\n",
       "      <th>topicTarget</th>\n",
       "      <th>topicSentiment</th>\n",
       "      <th>claims.claimId</th>\n",
       "      <th>claims.stance</th>\n",
       "      <th>claims.claimCorrectedText</th>\n",
       "      <th>claims.claimOriginalText</th>\n",
       "      <th>claims.article.rawFile</th>\n",
       "      <th>...</th>\n",
       "      <th>claims.article.rawSpan.end</th>\n",
       "      <th>claims.article.cleanFile</th>\n",
       "      <th>claims.article.cleanSpan.start</th>\n",
       "      <th>claims.article.cleanSpan.end</th>\n",
       "      <th>claims.Compatible</th>\n",
       "      <th>claims.claimTarget.text</th>\n",
       "      <th>claims.claimTarget.span.start</th>\n",
       "      <th>claims.claimTarget.span.end</th>\n",
       "      <th>claims.claimSentiment</th>\n",
       "      <th>claims.targetsRelation</th>\n",
       "    </tr>\n",
       "  </thead>\n",
       "  <tbody>\n",
       "    <tr>\n",
       "      <th>0</th>\n",
       "      <td>1</td>\n",
       "      <td>test</td>\n",
       "      <td>This house believes that the sale of violent v...</td>\n",
       "      <td>the sale of violent video games to minors</td>\n",
       "      <td>-1</td>\n",
       "      <td>2973</td>\n",
       "      <td>PRO</td>\n",
       "      <td>Exposure to violent video games causes at leas...</td>\n",
       "      <td>exposure to violent video games causes at leas...</td>\n",
       "      <td>articles/t1/raw_1.txt</td>\n",
       "      <td>...</td>\n",
       "      <td>640</td>\n",
       "      <td>articles/t1/clean_1.txt</td>\n",
       "      <td>418</td>\n",
       "      <td>568</td>\n",
       "      <td>yes</td>\n",
       "      <td>Exposure to violent video games</td>\n",
       "      <td>0.0</td>\n",
       "      <td>31.0</td>\n",
       "      <td>-1.0</td>\n",
       "      <td>1.0</td>\n",
       "    </tr>\n",
       "    <tr>\n",
       "      <th>1</th>\n",
       "      <td>1</td>\n",
       "      <td>test</td>\n",
       "      <td>This house believes that the sale of violent v...</td>\n",
       "      <td>the sale of violent video games to minors</td>\n",
       "      <td>-1</td>\n",
       "      <td>2974</td>\n",
       "      <td>CON</td>\n",
       "      <td>video game violence is not related to serious ...</td>\n",
       "      <td>video game violence is not related to serious ...</td>\n",
       "      <td>articles/t1/raw_1.txt</td>\n",
       "      <td>...</td>\n",
       "      <td>1697</td>\n",
       "      <td>articles/t1/clean_1.txt</td>\n",
       "      <td>829</td>\n",
       "      <td>907</td>\n",
       "      <td>yes</td>\n",
       "      <td>video game violence</td>\n",
       "      <td>0.0</td>\n",
       "      <td>19.0</td>\n",
       "      <td>1.0</td>\n",
       "      <td>1.0</td>\n",
       "    </tr>\n",
       "    <tr>\n",
       "      <th>2</th>\n",
       "      <td>1</td>\n",
       "      <td>test</td>\n",
       "      <td>This house believes that the sale of violent v...</td>\n",
       "      <td>the sale of violent video games to minors</td>\n",
       "      <td>-1</td>\n",
       "      <td>2975</td>\n",
       "      <td>CON</td>\n",
       "      <td>some violent video games may actually have a p...</td>\n",
       "      <td>some violent video games may actually have a p...</td>\n",
       "      <td>articles/t1/raw_1.txt</td>\n",
       "      <td>...</td>\n",
       "      <td>2089</td>\n",
       "      <td>articles/t1/clean_1.txt</td>\n",
       "      <td>1004</td>\n",
       "      <td>1082</td>\n",
       "      <td>yes</td>\n",
       "      <td>some violent video games</td>\n",
       "      <td>0.0</td>\n",
       "      <td>24.0</td>\n",
       "      <td>1.0</td>\n",
       "      <td>1.0</td>\n",
       "    </tr>\n",
       "    <tr>\n",
       "      <th>3</th>\n",
       "      <td>1</td>\n",
       "      <td>test</td>\n",
       "      <td>This house believes that the sale of violent v...</td>\n",
       "      <td>the sale of violent video games to minors</td>\n",
       "      <td>-1</td>\n",
       "      <td>2977</td>\n",
       "      <td>PRO</td>\n",
       "      <td>exposure to violent video games causes both sh...</td>\n",
       "      <td>exposure to violent video games causes both sh...</td>\n",
       "      <td>articles/t1/raw_1.txt</td>\n",
       "      <td>...</td>\n",
       "      <td>3695</td>\n",
       "      <td>articles/t1/clean_1.txt</td>\n",
       "      <td>1442</td>\n",
       "      <td>1577</td>\n",
       "      <td>yes</td>\n",
       "      <td>exposure to violent video games</td>\n",
       "      <td>0.0</td>\n",
       "      <td>31.0</td>\n",
       "      <td>-1.0</td>\n",
       "      <td>1.0</td>\n",
       "    </tr>\n",
       "    <tr>\n",
       "      <th>4</th>\n",
       "      <td>1</td>\n",
       "      <td>test</td>\n",
       "      <td>This house believes that the sale of violent v...</td>\n",
       "      <td>the sale of violent video games to minors</td>\n",
       "      <td>-1</td>\n",
       "      <td>2978</td>\n",
       "      <td>PRO</td>\n",
       "      <td>Violent video games increase the violent tende...</td>\n",
       "      <td>they increase the violent tendencies among youth</td>\n",
       "      <td>articles/t1/raw_1.txt</td>\n",
       "      <td>...</td>\n",
       "      <td>8167</td>\n",
       "      <td>articles/t1/clean_1.txt</td>\n",
       "      <td>3900</td>\n",
       "      <td>3948</td>\n",
       "      <td>yes</td>\n",
       "      <td>Violent video games</td>\n",
       "      <td>0.0</td>\n",
       "      <td>19.0</td>\n",
       "      <td>-1.0</td>\n",
       "      <td>1.0</td>\n",
       "    </tr>\n",
       "  </tbody>\n",
       "</table>\n",
       "<p>5 rows × 21 columns</p>\n",
       "</div>"
      ],
      "text/plain": [
       "   topicId split                                          topicText  \\\n",
       "0        1  test  This house believes that the sale of violent v...   \n",
       "1        1  test  This house believes that the sale of violent v...   \n",
       "2        1  test  This house believes that the sale of violent v...   \n",
       "3        1  test  This house believes that the sale of violent v...   \n",
       "4        1  test  This house believes that the sale of violent v...   \n",
       "\n",
       "                                 topicTarget  topicSentiment  claims.claimId  \\\n",
       "0  the sale of violent video games to minors              -1            2973   \n",
       "1  the sale of violent video games to minors              -1            2974   \n",
       "2  the sale of violent video games to minors              -1            2975   \n",
       "3  the sale of violent video games to minors              -1            2977   \n",
       "4  the sale of violent video games to minors              -1            2978   \n",
       "\n",
       "  claims.stance                          claims.claimCorrectedText  \\\n",
       "0           PRO  Exposure to violent video games causes at leas...   \n",
       "1           CON  video game violence is not related to serious ...   \n",
       "2           CON  some violent video games may actually have a p...   \n",
       "3           PRO  exposure to violent video games causes both sh...   \n",
       "4           PRO  Violent video games increase the violent tende...   \n",
       "\n",
       "                            claims.claimOriginalText claims.article.rawFile  \\\n",
       "0  exposure to violent video games causes at leas...  articles/t1/raw_1.txt   \n",
       "1  video game violence is not related to serious ...  articles/t1/raw_1.txt   \n",
       "2  some violent video games may actually have a p...  articles/t1/raw_1.txt   \n",
       "3  exposure to violent video games causes both sh...  articles/t1/raw_1.txt   \n",
       "4   they increase the violent tendencies among youth  articles/t1/raw_1.txt   \n",
       "\n",
       "   ...  claims.article.rawSpan.end  claims.article.cleanFile  \\\n",
       "0  ...                         640   articles/t1/clean_1.txt   \n",
       "1  ...                        1697   articles/t1/clean_1.txt   \n",
       "2  ...                        2089   articles/t1/clean_1.txt   \n",
       "3  ...                        3695   articles/t1/clean_1.txt   \n",
       "4  ...                        8167   articles/t1/clean_1.txt   \n",
       "\n",
       "  claims.article.cleanSpan.start  claims.article.cleanSpan.end  \\\n",
       "0                            418                           568   \n",
       "1                            829                           907   \n",
       "2                           1004                          1082   \n",
       "3                           1442                          1577   \n",
       "4                           3900                          3948   \n",
       "\n",
       "   claims.Compatible          claims.claimTarget.text  \\\n",
       "0                yes  Exposure to violent video games   \n",
       "1                yes              video game violence   \n",
       "2                yes         some violent video games   \n",
       "3                yes  exposure to violent video games   \n",
       "4                yes              Violent video games   \n",
       "\n",
       "  claims.claimTarget.span.start  claims.claimTarget.span.end  \\\n",
       "0                           0.0                         31.0   \n",
       "1                           0.0                         19.0   \n",
       "2                           0.0                         24.0   \n",
       "3                           0.0                         31.0   \n",
       "4                           0.0                         19.0   \n",
       "\n",
       "   claims.claimSentiment  claims.targetsRelation  \n",
       "0                   -1.0                     1.0  \n",
       "1                    1.0                     1.0  \n",
       "2                    1.0                     1.0  \n",
       "3                   -1.0                     1.0  \n",
       "4                   -1.0                     1.0  \n",
       "\n",
       "[5 rows x 21 columns]"
      ]
     },
     "execution_count": 69,
     "metadata": {},
     "output_type": "execute_result"
    }
   ],
   "source": [
    "dataset_arg_stance.head()"
   ]
  },
  {
   "cell_type": "code",
   "execution_count": 184,
   "metadata": {},
   "outputs": [
    {
     "data": {
      "text/plain": [
       "'This house believes that the sale of violent video games to minors should be banned'"
      ]
     },
     "execution_count": 184,
     "metadata": {},
     "output_type": "execute_result"
    }
   ],
   "source": [
    "dataset_arg_stance.iloc[0,2]"
   ]
  },
  {
   "cell_type": "code",
   "execution_count": 72,
   "metadata": {},
   "outputs": [],
   "source": [
    "#BERT model was trained using spacy configurations detailed in google colab notebook linked above\n",
    "import spacy\n",
    "nlp_claim_full = spacy.load('models/claim_stance_full')\n",
    "\n",
    "claim_test_df = pd.read_csv('processed_data/claim_stance/test.csv', index_col=0)\n",
    "claim_test_df['pred'] = claim_test_df['feature'].apply(lambda x: 0 if nlp_claim_full(x).cats['LABEL'] < 0.5 else 1)"
   ]
  },
  {
   "cell_type": "code",
   "execution_count": 165,
   "metadata": {},
   "outputs": [
    {
     "data": {
      "image/png": "[encoded data removed]",
      "text/plain": [
       "<Figure size 432x288 with 2 Axes>"
      ]
     },
     "metadata": {
      "needs_background": "light"
     },
     "output_type": "display_data"
    }
   ],
   "source": [
    "conf = confusion_matrix(claim_test_df['target'], claim_test_df['pred'])\n",
    "disp = ConfusionMatrixDisplay(conf, display_labels = ['CON', 'PRO'])\n",
    "disp.plot()\n",
    "plt.savefig('figures/claim_stance_full.png', transparent=True, dpi = 800, bbox_inches='tight');"
   ]
  },
  {
   "cell_type": "code",
   "execution_count": 81,
   "metadata": {},
   "outputs": [
    {
     "name": "stdout",
     "output_type": "stream",
     "text": [
      "Full model report:\n",
      "\n",
      "              precision    recall  f1-score   support\n",
      "\n",
      "           0       0.88      0.84      0.86       201\n",
      "           1       0.89      0.91      0.90       278\n",
      "\n",
      "    accuracy                           0.88       479\n",
      "   macro avg       0.88      0.88      0.88       479\n",
      "weighted avg       0.88      0.88      0.88       479\n",
      "\n"
     ]
    }
   ],
   "source": [
    "print('Full model report:')\n",
    "print('')\n",
    "print(classification_report(claim_test_df['target'], claim_test_df['pred']))"
   ]
  },
  {
   "cell_type": "markdown",
   "metadata": {},
   "source": [
    "### Traditional method using a basic tree classifier\n",
    "This was done on a Google Colab notebook as there were compatibility issues on my M1 Macbook. A decision tree classifier was used for this baseline.\n",
    "\n",
    "link: https://colab.research.google.com/drive/15xhegG4ubWHkic6cxK1v9hnphqBgS3DI#scrollTo=Sw61DdKdjvT4"
   ]
  },
  {
   "cell_type": "code",
   "execution_count": 120,
   "metadata": {},
   "outputs": [],
   "source": [
    "#Import the predicted results\n",
    "pred_baseline_df = pd.read_csv('processed_data/claim_stance/pred_baseline_dt.csv', index_col=0)\n",
    "claim_test_df['pred_baseline'] = pred_baseline_df"
   ]
  },
  {
   "cell_type": "code",
   "execution_count": 166,
   "metadata": {},
   "outputs": [
    {
     "data": {
      "image/png": "[encoded data removed]",
      "text/plain": [
       "<Figure size 432x288 with 2 Axes>"
      ]
     },
     "metadata": {
      "needs_background": "light"
     },
     "output_type": "display_data"
    }
   ],
   "source": [
    "conf = confusion_matrix(claim_test_df['target'], claim_test_df['pred_baseline'])\n",
    "disp = ConfusionMatrixDisplay(conf, display_labels = ['CON', 'PRO'])\n",
    "disp.plot()\n",
    "plt.savefig('figures/claim_stance_baseline.png', transparent=True, dpi = 800, bbox_inches='tight');"
   ]
  },
  {
   "cell_type": "code",
   "execution_count": 122,
   "metadata": {},
   "outputs": [
    {
     "name": "stdout",
     "output_type": "stream",
     "text": [
      "Baseline model report:\n",
      "\n",
      "              precision    recall  f1-score   support\n",
      "\n",
      "           0       0.58      0.60      0.59       201\n",
      "           1       0.70      0.69      0.69       278\n",
      "\n",
      "    accuracy                           0.65       479\n",
      "   macro avg       0.64      0.64      0.64       479\n",
      "weighted avg       0.65      0.65      0.65       479\n",
      "\n"
     ]
    }
   ],
   "source": [
    "print('Baseline model report:')\n",
    "print('')\n",
    "print(classification_report(claim_test_df['target'], claim_test_df['pred_baseline']))"
   ]
  },
  {
   "cell_type": "markdown",
   "metadata": {},
   "source": [
    "### Metrics"
   ]
  },
  {
   "cell_type": "code",
   "execution_count": 167,
   "metadata": {},
   "outputs": [
    {
     "data": {
      "text/plain": [
       "0.8772325423243496"
      ]
     },
     "execution_count": 167,
     "metadata": {},
     "output_type": "execute_result"
    }
   ],
   "source": [
    "from sklearn.metrics import roc_auc_score\n",
    "from sklearn.preprocessing import label_binarize\n",
    "from sklearn.metrics import roc_curve, auc\n",
    "roc_auc_score(claim_test_df['target'], claim_test_df['pred'])"
   ]
  },
  {
   "cell_type": "code",
   "execution_count": 174,
   "metadata": {},
   "outputs": [],
   "source": [
    "# Compute ROC curve and ROC area for each class\n",
    "y_test = list(claim_test_df['target'])\n",
    "y_score = list(claim_test_df['pred'])\n",
    "\n",
    "y = label_binarize(y_test, classes=[0, 1])\n",
    "n_classes = y.shape[1]\n",
    "\n",
    "fpr = dict()\n",
    "tpr = dict()\n",
    "roc_auc = dict()\n",
    "fpr, tpr, _ = roc_curve(y_test, y_score)\n",
    "roc_auc = auc(fpr, tpr)"
   ]
  },
  {
   "cell_type": "code",
   "execution_count": 175,
   "metadata": {},
   "outputs": [],
   "source": [
    "# Compute ROC curve and ROC area for each class for BASELINE\n",
    "y_test = list(claim_test_df['target'])\n",
    "y_score = list(claim_test_df['pred_baseline'])\n",
    "\n",
    "y = label_binarize(y_test, classes=[0, 1])\n",
    "n_classes = y.shape[1]\n",
    "\n",
    "fpr_base = dict()\n",
    "tpr_base = dict()\n",
    "roc_auc_base = dict()\n",
    "fpr_base, tpr_base, _ = roc_curve(y_test, y_score)\n",
    "roc_auc_base = auc(fpr_base, tpr_base)"
   ]
  },
  {
   "cell_type": "code",
   "execution_count": 177,
   "metadata": {},
   "outputs": [
    {
     "data": {
      "image/png": "[encoded data removed]",
      "text/plain": [
       "<Figure size 432x288 with 1 Axes>"
      ]
     },
     "metadata": {
      "needs_background": "light"
     },
     "output_type": "display_data"
    },
    {
     "data": {
      "text/plain": [
       "<Figure size 432x288 with 0 Axes>"
      ]
     },
     "metadata": {},
     "output_type": "display_data"
    }
   ],
   "source": [
    "fig, ax = plt.subplots()\n",
    "plt.figure()\n",
    "lw = 2\n",
    "ax.plot(\n",
    "    fpr,\n",
    "    tpr,\n",
    "    color=\"darkorange\",\n",
    "    lw=lw,\n",
    "    label=\"BERT (area = %0.2f)\" % roc_auc,\n",
    ")\n",
    "ax.plot(\n",
    "    fpr_base,\n",
    "    tpr_base,\n",
    "    color=\"red\",\n",
    "    lw=lw,\n",
    "    label=\"Decision Tree (area = %0.2f)\" % roc_auc_base,\n",
    ")\n",
    "ax.plot([0, 1], [0, 1], color=\"navy\", lw=lw, linestyle=\"--\")\n",
    "ax.set_ylim([0.0, 1.0])\n",
    "ax.set_xlim([0.0, 1.05])\n",
    "ax.set_ylabel(\"True Positive Rate\")\n",
    "ax.set_xlabel(\"False Positive Rate\")\n",
    "ax.set_title(\"Receiver operating characteristic curve\")\n",
    "ax.legend(loc=\"lower right\")\n",
    "fig.savefig('figures/claim_stance_roc_auc.png', transparent=True, dpi = 800, bbox_inches='tight');"
   ]
  },
  {
   "cell_type": "markdown",
   "metadata": {},
   "source": [
    "## Dataset #4: Debater analysis"
   ]
  },
  {
   "cell_type": "code",
   "execution_count": 7,
   "metadata": {},
   "outputs": [
    {
     "data": {
      "text/html": [
       "<div>\n",
       "<style scoped>\n",
       "    .dataframe tbody tr th:only-of-type {\n",
       "        vertical-align: middle;\n",
       "    }\n",
       "\n",
       "    .dataframe tbody tr th {\n",
       "        vertical-align: top;\n",
       "    }\n",
       "\n",
       "    .dataframe thead th {\n",
       "        text-align: right;\n",
       "    }\n",
       "</style>\n",
       "<table border=\"1\" class=\"dataframe\">\n",
       "  <thead>\n",
       "    <tr style=\"text-align: right;\">\n",
       "      <th></th>\n",
       "      <th>motion-id</th>\n",
       "      <th>motion</th>\n",
       "      <th>set</th>\n",
       "    </tr>\n",
       "  </thead>\n",
       "  <tbody>\n",
       "    <tr>\n",
       "      <th>0</th>\n",
       "      <td>121</td>\n",
       "      <td>We should ban boxing</td>\n",
       "      <td>Test</td>\n",
       "    </tr>\n",
       "    <tr>\n",
       "      <th>1</th>\n",
       "      <td>3162</td>\n",
       "      <td>We should adopt multiculturalism</td>\n",
       "      <td>Train</td>\n",
       "    </tr>\n",
       "    <tr>\n",
       "      <th>2</th>\n",
       "      <td>2489</td>\n",
       "      <td>We should abolish no-knock warrants</td>\n",
       "      <td>Train</td>\n",
       "    </tr>\n",
       "    <tr>\n",
       "      <th>3</th>\n",
       "      <td>2109</td>\n",
       "      <td>We should cancel the Social Security tax</td>\n",
       "      <td>Test</td>\n",
       "    </tr>\n",
       "    <tr>\n",
       "      <th>4</th>\n",
       "      <td>3164</td>\n",
       "      <td>We should abolish open primaries in the United...</td>\n",
       "      <td>Test</td>\n",
       "    </tr>\n",
       "  </tbody>\n",
       "</table>\n",
       "</div>"
      ],
      "text/plain": [
       "   motion-id                                             motion    set\n",
       "0        121                               We should ban boxing   Test\n",
       "1       3162                   We should adopt multiculturalism  Train\n",
       "2       2489                We should abolish no-knock warrants  Train\n",
       "3       2109           We should cancel the Social Security tax   Test\n",
       "4       3164  We should abolish open primaries in the United...   Test"
      ]
     },
     "execution_count": 7,
     "metadata": {},
     "output_type": "execute_result"
    }
   ],
   "source": [
    "dataset_arg_gen_ootec.head()"
   ]
  },
  {
   "cell_type": "code",
   "execution_count": 6,
   "metadata": {},
   "outputs": [
    {
     "data": {
      "text/html": [
       "<div>\n",
       "<style scoped>\n",
       "    .dataframe tbody tr th:only-of-type {\n",
       "        vertical-align: middle;\n",
       "    }\n",
       "\n",
       "    .dataframe tbody tr th {\n",
       "        vertical-align: top;\n",
       "    }\n",
       "\n",
       "    .dataframe thead th {\n",
       "        text-align: right;\n",
       "    }\n",
       "</style>\n",
       "<table border=\"1\" class=\"dataframe\">\n",
       "  <thead>\n",
       "    <tr style=\"text-align: right;\">\n",
       "      <th></th>\n",
       "      <th>argument</th>\n",
       "    </tr>\n",
       "  </thead>\n",
       "  <tbody>\n",
       "    <tr>\n",
       "      <th>0</th>\n",
       "      <td>We should abolish juvenile courts.\\nSo, we're ...</td>\n",
       "    </tr>\n",
       "    <tr>\n",
       "      <th>1</th>\n",
       "      <td>Okay so side government tells us that there's ...</td>\n",
       "    </tr>\n",
       "    <tr>\n",
       "      <th>2</th>\n",
       "      <td>We should protect edward snowden.\\nIn this rou...</td>\n",
       "    </tr>\n",
       "    <tr>\n",
       "      <th>3</th>\n",
       "      <td>I'm proud to stand in opposition of the motion...</td>\n",
       "    </tr>\n",
       "    <tr>\n",
       "      <th>4</th>\n",
       "      <td>We should not privatize water.\\nSo the other s...</td>\n",
       "    </tr>\n",
       "  </tbody>\n",
       "</table>\n",
       "</div>"
      ],
      "text/plain": [
       "                                            argument\n",
       "0  We should abolish juvenile courts.\\nSo, we're ...\n",
       "1  Okay so side government tells us that there's ...\n",
       "2  We should protect edward snowden.\\nIn this rou...\n",
       "3  I'm proud to stand in opposition of the motion...\n",
       "4  We should not privatize water.\\nSo the other s..."
      ]
     },
     "execution_count": 6,
     "metadata": {},
     "output_type": "execute_result"
    }
   ],
   "source": [
    "dataset_arg_gen_args.head()"
   ]
  },
  {
   "cell_type": "markdown",
   "metadata": {},
   "source": [
    "## Dataset #5: Key point analysis"
   ]
  },
  {
   "cell_type": "code",
   "execution_count": 8,
   "metadata": {},
   "outputs": [
    {
     "data": {
      "text/html": [
       "<div>\n",
       "<style scoped>\n",
       "    .dataframe tbody tr th:only-of-type {\n",
       "        vertical-align: middle;\n",
       "    }\n",
       "\n",
       "    .dataframe tbody tr th {\n",
       "        vertical-align: top;\n",
       "    }\n",
       "\n",
       "    .dataframe thead th {\n",
       "        text-align: right;\n",
       "    }\n",
       "</style>\n",
       "<table border=\"1\" class=\"dataframe\">\n",
       "  <thead>\n",
       "    <tr style=\"text-align: right;\">\n",
       "      <th></th>\n",
       "      <th>topic</th>\n",
       "      <th>argument</th>\n",
       "      <th>key_point</th>\n",
       "      <th>stance</th>\n",
       "      <th>label</th>\n",
       "    </tr>\n",
       "  </thead>\n",
       "  <tbody>\n",
       "    <tr>\n",
       "      <th>0</th>\n",
       "      <td>Assisted suicide should be a criminal offence</td>\n",
       "      <td>`people reach their limit when it comes to the...</td>\n",
       "      <td>Assisted suicide gives dignity to the person t...</td>\n",
       "      <td>-1</td>\n",
       "      <td>0</td>\n",
       "    </tr>\n",
       "    <tr>\n",
       "      <th>1</th>\n",
       "      <td>Assisted suicide should be a criminal offence</td>\n",
       "      <td>a cure or treatment may be discovered shortly ...</td>\n",
       "      <td>Assisted suicide allows people to solicit some...</td>\n",
       "      <td>1</td>\n",
       "      <td>0</td>\n",
       "    </tr>\n",
       "    <tr>\n",
       "      <th>2</th>\n",
       "      <td>Assisted suicide should be a criminal offence</td>\n",
       "      <td>a cure or treatment may be discovered shortly ...</td>\n",
       "      <td>Assisted suicide is akin to killing someone</td>\n",
       "      <td>1</td>\n",
       "      <td>0</td>\n",
       "    </tr>\n",
       "    <tr>\n",
       "      <th>3</th>\n",
       "      <td>Assisted suicide should be a criminal offence</td>\n",
       "      <td>a cure or treatment may be discovered shortly ...</td>\n",
       "      <td>Assisted suicide should not be allowed because...</td>\n",
       "      <td>1</td>\n",
       "      <td>1</td>\n",
       "    </tr>\n",
       "    <tr>\n",
       "      <th>4</th>\n",
       "      <td>Assisted suicide should be a criminal offence</td>\n",
       "      <td>a cure or treatment may be discovered shortly ...</td>\n",
       "      <td>Assisted suicide violates the doctor's role</td>\n",
       "      <td>1</td>\n",
       "      <td>0</td>\n",
       "    </tr>\n",
       "  </tbody>\n",
       "</table>\n",
       "</div>"
      ],
      "text/plain": [
       "                                           topic  \\\n",
       "0  Assisted suicide should be a criminal offence   \n",
       "1  Assisted suicide should be a criminal offence   \n",
       "2  Assisted suicide should be a criminal offence   \n",
       "3  Assisted suicide should be a criminal offence   \n",
       "4  Assisted suicide should be a criminal offence   \n",
       "\n",
       "                                            argument  \\\n",
       "0  `people reach their limit when it comes to the...   \n",
       "1  a cure or treatment may be discovered shortly ...   \n",
       "2  a cure or treatment may be discovered shortly ...   \n",
       "3  a cure or treatment may be discovered shortly ...   \n",
       "4  a cure or treatment may be discovered shortly ...   \n",
       "\n",
       "                                           key_point  stance  label  \n",
       "0  Assisted suicide gives dignity to the person t...      -1      0  \n",
       "1  Assisted suicide allows people to solicit some...       1      0  \n",
       "2        Assisted suicide is akin to killing someone       1      0  \n",
       "3  Assisted suicide should not be allowed because...       1      1  \n",
       "4        Assisted suicide violates the doctor's role       1      0  "
      ]
     },
     "execution_count": 8,
     "metadata": {},
     "output_type": "execute_result"
    }
   ],
   "source": [
    "dataset_key_point.head()"
   ]
  },
  {
   "cell_type": "markdown",
   "metadata": {},
   "source": [
    "## Dataset #6: Argument generation"
   ]
  },
  {
   "cell_type": "code",
   "execution_count": 9,
   "metadata": {},
   "outputs": [
    {
     "data": {
      "text/html": [
       "<div>\n",
       "<style scoped>\n",
       "    .dataframe tbody tr th:only-of-type {\n",
       "        vertical-align: middle;\n",
       "    }\n",
       "\n",
       "    .dataframe tbody tr th {\n",
       "        vertical-align: top;\n",
       "    }\n",
       "\n",
       "    .dataframe thead th {\n",
       "        text-align: right;\n",
       "    }\n",
       "</style>\n",
       "<table border=\"1\" class=\"dataframe\">\n",
       "  <thead>\n",
       "    <tr style=\"text-align: right;\">\n",
       "      <th></th>\n",
       "      <th>prefix</th>\n",
       "      <th>topic</th>\n",
       "      <th>text</th>\n",
       "      <th>set</th>\n",
       "      <th>model</th>\n",
       "      <th>plausibility_score</th>\n",
       "      <th>plausibility_label</th>\n",
       "      <th>stance_conf</th>\n",
       "      <th>stance_label</th>\n",
       "      <th>combined_label</th>\n",
       "    </tr>\n",
       "  </thead>\n",
       "  <tbody>\n",
       "    <tr>\n",
       "      <th>0</th>\n",
       "      <td>Begging should be banned</td>\n",
       "      <td>Begging should be banned</td>\n",
       "      <td>\"Begging\" is a form of child abuse and should ...</td>\n",
       "      <td>test</td>\n",
       "      <td>GPT-2-LN-FWS</td>\n",
       "      <td>0.714286</td>\n",
       "      <td>Yes</td>\n",
       "      <td>1.0</td>\n",
       "      <td>Pro</td>\n",
       "      <td>1</td>\n",
       "    </tr>\n",
       "    <tr>\n",
       "      <th>1</th>\n",
       "      <td>Begging should be banned</td>\n",
       "      <td>Begging should be banned</td>\n",
       "      <td>beg is a disgusting way to treat animals.  it ...</td>\n",
       "      <td>test</td>\n",
       "      <td>GPT-2-RANK</td>\n",
       "      <td>0.000000</td>\n",
       "      <td>No</td>\n",
       "      <td>NaN</td>\n",
       "      <td>NaN</td>\n",
       "      <td>0</td>\n",
       "    </tr>\n",
       "    <tr>\n",
       "      <th>2</th>\n",
       "      <td>Begging should be banned</td>\n",
       "      <td>Begging should be banned</td>\n",
       "      <td>Begging is  the cause of so many child abuse c...</td>\n",
       "      <td>test</td>\n",
       "      <td>GPT-2-RANK</td>\n",
       "      <td>0.428571</td>\n",
       "      <td>No</td>\n",
       "      <td>NaN</td>\n",
       "      <td>NaN</td>\n",
       "      <td>0</td>\n",
       "    </tr>\n",
       "    <tr>\n",
       "      <th>3</th>\n",
       "      <td>Begging should be banned</td>\n",
       "      <td>Begging should be banned</td>\n",
       "      <td>Begging is a crime against humanity.</td>\n",
       "      <td>test</td>\n",
       "      <td>GPT-2-LN-FWS</td>\n",
       "      <td>0.857143</td>\n",
       "      <td>Yes</td>\n",
       "      <td>1.0</td>\n",
       "      <td>Pro</td>\n",
       "      <td>1</td>\n",
       "    </tr>\n",
       "    <tr>\n",
       "      <th>4</th>\n",
       "      <td>Begging should be banned</td>\n",
       "      <td>Begging should be banned</td>\n",
       "      <td>Begging is a drain on society.</td>\n",
       "      <td>test</td>\n",
       "      <td>GPT-2-LN-FWS</td>\n",
       "      <td>0.714286</td>\n",
       "      <td>Yes</td>\n",
       "      <td>1.0</td>\n",
       "      <td>Pro</td>\n",
       "      <td>1</td>\n",
       "    </tr>\n",
       "  </tbody>\n",
       "</table>\n",
       "</div>"
      ],
      "text/plain": [
       "                     prefix                     topic  \\\n",
       "0  Begging should be banned  Begging should be banned   \n",
       "1  Begging should be banned  Begging should be banned   \n",
       "2  Begging should be banned  Begging should be banned   \n",
       "3  Begging should be banned  Begging should be banned   \n",
       "4  Begging should be banned  Begging should be banned   \n",
       "\n",
       "                                                text   set         model  \\\n",
       "0  \"Begging\" is a form of child abuse and should ...  test  GPT-2-LN-FWS   \n",
       "1  beg is a disgusting way to treat animals.  it ...  test    GPT-2-RANK   \n",
       "2  Begging is  the cause of so many child abuse c...  test    GPT-2-RANK   \n",
       "3               Begging is a crime against humanity.  test  GPT-2-LN-FWS   \n",
       "4                     Begging is a drain on society.  test  GPT-2-LN-FWS   \n",
       "\n",
       "   plausibility_score plausibility_label  stance_conf stance_label  \\\n",
       "0            0.714286                Yes          1.0          Pro   \n",
       "1            0.000000                 No          NaN          NaN   \n",
       "2            0.428571                 No          NaN          NaN   \n",
       "3            0.857143                Yes          1.0          Pro   \n",
       "4            0.714286                Yes          1.0          Pro   \n",
       "\n",
       "   combined_label  \n",
       "0               1  \n",
       "1               0  \n",
       "2               0  \n",
       "3               1  \n",
       "4               1  "
      ]
     },
     "execution_count": 9,
     "metadata": {},
     "output_type": "execute_result"
    }
   ],
   "source": [
    "dataset_claim_gen.head()"
   ]
  }
 ],
 "metadata": {
  "interpreter": {
   "hash": "0c1f5ce8eed932a4317a88fdfc83317a84584de98614c992901b7b196b5e3487"
  },
  "kernelspec": {
   "display_name": "Python 3.8.8 ('base')",
   "language": "python",
   "name": "python3"
  },
  "language_info": {
   "codemirror_mode": {
    "name": "ipython",
    "version": 3
   },
   "file_extension": ".py",
   "mimetype": "text/x-python",
   "name": "python",
   "nbconvert_exporter": "python",
   "pygments_lexer": "ipython3",
   "version": "3.8.13"
  },
  "orig_nbformat": 4
 },
 "nbformat": 4,
 "nbformat_minor": 2
}
